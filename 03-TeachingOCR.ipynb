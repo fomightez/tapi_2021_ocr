{
 "cells": [
  {
   "cell_type": "markdown",
   "metadata": {},
   "source": [
    "# Images to Text: A Gentle Introduction to Optical Character Recognition with PyTesseract\n",
    "\n",
    "***Lesson 03: Doing, Teaching, Researching OCR*** \n",
    "\n",
    "Friday, June 18 2021 - [13:00-14:30 UTC](https://savvytime.com/converter/utc/jun-18-2021/13-30)"
   ]
  },
  {
   "cell_type": "markdown",
   "metadata": {},
   "source": [
    "## Table of Contents\n",
    "\n",
    "- [Finishing Lesson 02](#lesson-02)\n",
    "- [Lesson 03: Doing, Teaching, Researching OCR](#lesson-03)\n",
    "- [Wrap Up](#wrap-up)\n",
    "\n",
    "\n",
    "## Before we get started: \n",
    "\n",
    "- Slack Discussion\n",
    "- Questions?\n",
    "\n",
    "\n",
    "## Finishing [Lesson 02](02-OCRAsAProcess.ipynb): OCR as a Process <a class=\"anchor\" id=\"lesson-02\"></a>\n",
    "---"
   ]
  },
  {
   "cell_type": "markdown",
   "metadata": {},
   "source": [
    "## BREAK\n",
    "\n",
    "<img src=\"images/noun_Cafe_3166430.png\" width=\"20%\" alt=\"A coffee cup on a saucer with steam rising from the cup.\"/>"
   ]
  },
  {
   "cell_type": "markdown",
   "metadata": {},
   "source": [
    "## Lesson 03: Doing, Teaching, Researching OCR <a class=\"anchor\" id=\"lesson-03\"></a>\n",
    "---\n",
    "\n",
    "This is a choose your own adventure! We'll spend the remainder of our time in small groups focused on one of the following options. <mark style=\"background-color:lightgreen\"><a href=\"https://forms.gle/ctVyDAVyM4Qdn4627\" target=\"blank\">Fill out this survey</a></mark> to select which group you'd like to join:\n",
    "\n",
    "\n",
    "### Code Practice\n",
    "\n",
    "Work through the code blocks we have looked at with your own work or look at the code blocks we didn't discuss. Try modifications. Discuss your results, challenges, and questions with your group.\n",
    "\n",
    "\n",
    "### Project Review\n",
    "\n",
    "1. As a group choose one (or more!) of the following projects:\n",
    "    - [Quantifying Kissinger](https://blog.quantifyingkissinger.com/)\n",
    "        - [Sources and Process](https://blog.quantifyingkissinger.com/category/methods/sources-and-process/)\n",
    "    - [TROVE](https://trove.nla.gov.au/)\n",
    "        - [OCR Overview](https://www.nla.gov.au/content/ocr-overview)\n",
    "        - [Blog post: Australian Newspapers Digitisation Program - The OCR process](https://www.nla.gov.au/stories/blog/behind-the-scenes/2010/05/28/australian-newspapers-digitisation-program-the-ocr-process)\n",
    "    - [Viral Texts](https://viraltexts.org/2015/05/22/computational-methods-for-uncovering-reprinted-texts-in-antebellum-newspapers/) -- skim and Command+F or Control+F for \"OCR\"\n",
    "\n",
    "\n",
    "2. Read through the project's methods.\n",
    "\n",
    "\n",
    "3. Discuss the project with your group. Consider the following questions:\n",
    "    - What is the project's goal?\n",
    "    - How does the project team structure its OCR process?\n",
    "    - What is one useful step or approach that the team includes in their OCR process?\n",
    "    - What is one less useful step or approach that the team includes in their OCR process? Or, what is one step that is missing?\n",
    "    - How do the useful, less useful, and/or missing steps or approaches impact the project?\n",
    "\n",
    "\n",
    "### Planning for Teaching\n",
    "\n",
    "Discuss your plans for teaching OCR with your group. Try to give 5 minutes (or more if your group is small) to each group member. Consider the following questions:\n",
    "\n",
    "- What do you hope students will learn through the OCR process?\n",
    "- How might you structure exercises for learning OCR?\n",
    "- What kinds of resources (time, expertise, funding, equipment, etc.) would you need?\n",
    "- What else do you need to learn?\n",
    "\n",
    "\n",
    "### Planning for Research\n",
    "\n",
    "Discuss your plans for researching OCR with your group. Try to give 5 minutes (or more if your group is small) to each group member. Consider the following questions:\n",
    "\n",
    "- What do you hope to learn through the OCR process?\n",
    "- How will OCR help you answer your research question?\n",
    "- How might Python and Tesseract help/hinder your research?\n",
    "- What kinds of resources (time, expertise, funding, equipment, etc.) would you need to implement OCR using Python and Tesseract?\n",
    "- What else do you need to learn?\n"
   ]
  },
  {
   "cell_type": "markdown",
   "metadata": {},
   "source": [
    "## Wrap Up & Next Steps <a class=\"anchor\" id=\"wrap-up\"></a>\n",
    "---\n",
    "\n",
    "What's next for you? Post your ideas, plans, questions to Slack.\n",
    "\n",
    "These notebooks will remain available in [TAPI's coursebook](https://nkelber.github.io/tapi2021/book/courses/ocr.html) and on [Github](https://github.com/hlj24/tapi_2021_ocr). Please feel free to reuse them, crediting Hannah L. Jacobs and the TAP Institute.\n",
    "\n",
    "Take a look at the [Resources in Lesson 01](01-WhatIsOCR.ipynb#resources) and review the recordings posted to Slack."
   ]
  }
 ],
 "metadata": {
  "kernelspec": {
   "display_name": "Python 3",
   "language": "python",
   "name": "python3"
  },
  "language_info": {
   "codemirror_mode": {
    "name": "ipython",
    "version": 3
   },
   "file_extension": ".py",
   "mimetype": "text/x-python",
   "name": "python",
   "nbconvert_exporter": "python",
   "pygments_lexer": "ipython3",
   "version": "3.8.5"
  }
 },
 "nbformat": 4,
 "nbformat_minor": 4
}
