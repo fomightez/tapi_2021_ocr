{
 "cells": [
  {
   "cell_type": "markdown",
   "metadata": {},
   "source": [
    "# Images to Text: A Gentle Introduction to Optical Character Recognition with PyTesseract\n",
    "\n",
    "***Lesson 02: OCR as a Process*** \n",
    "\n",
    "Wednesday, June 16 2021 - [13:00-14:30 UTC](https://savvytime.com/converter/utc/jun-16-2021/13-30)"
   ]
  },
  {
   "cell_type": "markdown",
   "metadata": {},
   "source": [
    "## Under Construction - Coming Soon!"
   ]
  }
 ],
 "metadata": {
  "kernelspec": {
   "display_name": "Python 3",
   "language": "python",
   "name": "python3"
  },
  "language_info": {
   "codemirror_mode": {
    "name": "ipython",
    "version": 3
   },
   "file_extension": ".py",
   "mimetype": "text/x-python",
   "name": "python",
   "nbconvert_exporter": "python",
   "pygments_lexer": "ipython3",
   "version": "3.8.5"
  }
 },
 "nbformat": 4,
 "nbformat_minor": 4
}
