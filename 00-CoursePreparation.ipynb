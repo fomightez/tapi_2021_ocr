{
 "cells": [
  {
   "cell_type": "markdown",
   "metadata": {},
   "source": [
    "# Images to Text: A Gentle Introduction to Optical Character Recognition with PyTesseract\n",
    "\n",
    "***Course Preparation (30-60 minutes)***"
   ]
  },
  {
   "cell_type": "markdown",
   "metadata": {},
   "source": [
    "## Table of Contents"
   ]
  },
  {
   "cell_type": "markdown",
   "metadata": {},
   "source": [
    "- [Welcome](#welcome)\n",
    "- [Getting Started - Course Platforms & Tools](#getting-started)\n",
    "- [Course Materials](#materials)\n",
    "- [Things to do before our first meeting](#to-do)\n",
    "- [Questions?](#questions)"
   ]
  },
  {
   "cell_type": "markdown",
   "metadata": {},
   "source": [
    "## Welcome <a class=\"anchor\" id=\"welcome\"></a>"
   ]
  },
  {
   "cell_type": "markdown",
   "metadata": {},
   "source": [
    "Welcome to Images to Text: A Gentle Introduction to OCR with PyTesseract! I'm looking forward to meeting you all and learning more about your work. Read through this notebook and make sure you [complete the \"things to do\" list below before our first lesson](#to-do). See you soon on Slack and Zoom!\n",
    "\n",
    "### About this Course\n",
    "\n",
    "This course will introduce the concept of “Optical Character Recognition” (OCR), various tools available for performing OCR, and important considerations for successfully OCRing digitized text. Using Tesseract in Python, we’ll walk through the entire process using a variety of examples to show the range of challenges scholars can face when performing OCR.\n",
    "\n",
    "### Learning Objectives\n",
    "\n",
    "By the end of the course, participants should be able to \n",
    "\n",
    "- define \"OCR\";\n",
    "- explain the importance of OCR for computer-aided reading and analysis;\n",
    "- point to use cases for OCR in teaching & research.\n",
    "- use the course’s Jupyter Notebooks to perform OCR on their own; \n",
    "- identify possible technical challenges presented by specific texts and propose potential solutions; \n",
    "- assess the degree of accuracy they have achieved in performing OCR.\n",
    "\n",
    "### About the Instructor\n",
    "\n",
    "Hannah L. Jacobs (she/her) is the Digital Humanities Specialist for the [Duke Digital Art History & Visual Culture Research Lab](https://dahvc.org) where she teaches and conducts research on digital humanities methods for lab courses and projects. She is also pursuing a Master’s in Information Science at the University of North Carolina at Chapel Hill where she is studying historical data, their uses and potential reuses, and surrounding ethical concerns. She is a Graduate Assistant for the [On The Books](https://onthebooks.lib.unc.edu/) project at UNC Libraries, an initiative using text technologies to identify Jim Crow laws found in North Carolina’s session laws."
   ]
  },
  {
   "cell_type": "markdown",
   "metadata": {},
   "source": [
    "## Getting Started - Course Platforms & Tools <a class=\"anchor\" id=\"getting-started\"></a>"
   ]
  },
  {
   "cell_type": "markdown",
   "metadata": {},
   "source": [
    "### Where are we?\n",
    "\n",
    "We are in **a [Jupyter Notebook](https://jupyter.org/), \"an open-source web application that allows you to create and share documents that contain live code, equations, visualizations and narrative text.\"** (Jupyter.org)\n",
    "\n",
    "This Jupyter Notebook and the others used for this workshop are hosted online using **[Binder](https://binder.constellate.org/), a service that hosts Jupyter Notebooks online.** (This instance of Binder is hosted and managed by [Constellate](https://constellate.org/).)\n",
    "\n",
    "We're using Jupyter Notebooks so that you can **run all code in a browser without needing to download and install the necessary software.** [Here are instructions if you *do* wish to use this software on your own local computer.](04-Installing%2BRunningTesseractLocally.ipynb)\n",
    "\n",
    "Jupyter Notebooks also lets us **view/read workshop materials *and run the code in the same window***. You can also edit the code and take notes within these notebooks if you like."
   ]
  },
  {
   "cell_type": "markdown",
   "metadata": {},
   "source": [
    "### Jupyter Notebooks & Binder (& Github)\n",
    "\n",
    "<img src=\"images/1200px-Jupyter_logo.svg.png\" width=\"10%\" style=\"margin-right:10px;  float:right;\" alt=\"Jupyter surrounded by an orange circular outline and three smaller gray circles. Source: Wikimedia Commons.\"/> **A [Jupyter Notebook](https://jupyter.org/) is just an editable **file** that needs specific software to run, not unlike a Word document. Except that unlike a Word document, a Jupyter Notebook can be run using a variety of different software: **it operates inside a browser, [preferably the latest version of Chrome, Firefox, or Safari](https://jupyter-notebook.readthedocs.io/en/stable/notebook.html?highlight=browser#browser-compatibility).** You can [try these solutions](https://jupyter-notebook.readthedocs.io/en/stable/troubleshooting.html?highlight=browser#jupyter-doesn-t-load-or-doesn-t-work-in-the-browser) if you have trouble loading Jupyter Notebooks in your browser of choice.\n",
    "\n",
    "**To get to know how Jupyter Notebooks work, [watch this tutorial](https://ithaka.github.io/tdm-notebooks/getting-started-with-jupyter.html).**\n",
    "\n",
    "<br/>\n",
    "<br/>\n",
    "\n",
    "<img src=\"images/binder_icon.png\" width=\"20%\" style=\"margin-right:10px; float:right;\" alt=\"Binder icon of three rings intertwined: one orange, one red, and one blue. Source: MyBinder.org.\"/> **[Binder](https://binder.constellate.org/) is the *environment* we are using to access (\"run\") our Jupyter Notebooks in a browser.** It's kind of like a separate computer in the cloud that makes all of tools we need to use in Jupyter Notebooks work. \n",
    "\n",
    "<br/>\n",
    "<br/>\n",
    "\n",
    "\n",
    "<img src=\"images/GitHub-Mark.png\" width=\"15%\" style=\"margin-right:10px; float:right;\" alt=\"Github symbol of a white cat holding out a left tentacle inside a black circle. Source: Github.com.\"/> We use **[Github](https://github.com/) to store the Jupyter Notebooks files.** Like any other computer, Binder will power down after a while--basically after a certain period of inactivity. So we need a place to make our Jupyter Notebooks files available--to share them with the world and to tell Binder where to find them the next time we start up a Binder session."
   ]
  },
  {
   "cell_type": "markdown",
   "metadata": {},
   "source": [
    "### Python & Tesseract\n",
    "\n",
    "**[Tesseract](https://tesseract-ocr.github.io/)** is a tool (\"engine\") for performing optical character recognition (OCR). Tesseract is free and open source and [supported by Google](https://opensource.google/projects/tesseract).\n",
    "\n",
    "**[Python](https://www.python.org/about/)** is an all-purpose programming language that is extremely popular because of it's relative ease to learn and because it is relatively human readable. You can [watch an introduction to Python in this Constellate tutorial](https://ithaka.github.io/tdm-notebooks/python-basics-1.html).\n",
    "\n",
    "To run Tesseract, we'll use a Python \"library\" (like a game's extension pack or a website plugin), **[PyTesseract](https://pypi.org/project/pytesseract/)**. \n",
    "\n",
    "**In Jupyter Notebooks, we'll use Python and PyTesseract to access the Tesseract engine and complete OCR tasks.**"
   ]
  },
  {
   "cell_type": "markdown",
   "metadata": {},
   "source": [
    "### Slack & Zoom\n",
    "\n",
    "<img src=\"images/1280px-Zoom_Communications_Logo.svg.png\" width=\"20%\" style=\"margin-right:10px; box-shadow: 25px 25px 20px -30px rgba(0, 0, 0); float:right;\" alt=\"Zoom in blue letters. Source: Wikimedia Commons.\"/>\n",
    "\n",
    "We're using **Zoom** for our synchronous course lessons and **Slack** for asynchronous communication (chat) and for connecting with one another outside of the course lessons. Links to both Zoom and Slack have been sent to you via email. \n",
    "\n",
    "<img src=\"images/1024px-Slack_icon_2019.svg.png\" width=\"20%\" style=\"margin-right:10px;  float:right;\" alt=\"Slack icon. Source: Wikimedia Commons.\"/>\n",
    "\n",
    "Here are resources for learning more about each platform:\n",
    "\n",
    "- [Zoom video tutorials](https://support.zoom.us/hc/en-us/articles/206618765-Zoom-Video-Tutorials)\n",
    "- [Slack video tutorials](https://slack.com/help/articles/360059976673-Slack-video-tutorials)"
   ]
  },
  {
   "cell_type": "markdown",
   "metadata": {},
   "source": [
    "## Course Materials <a class=\"anchor\" id=\"materials\"></a>"
   ]
  },
  {
   "cell_type": "markdown",
   "metadata": {},
   "source": [
    "**[Access all of the course materials here.](https://nkelber.github.io/tapi2021/book/courses/ocr.html)** Below is an outline of all materials with direct links to each notebook. You can also find these notebooks and associate example files by clicking on the Jupyter icon at the top of this page.\n",
    "\n",
    "\n",
    "- [Course Preparation (this notebook)](00-WorkshopPreparation.ipynb)\n",
    "\n",
    "\n",
    "- [Lesson 1: What is OCR? Why is it important?](01-WhatIsOCR.ipynb)\n",
    "\n",
    "\n",
    "- [Lesson 2: OCR as a Proess](02-OCRAsAProcess.ipynb)\n",
    "\n",
    "\n",
    "- [Lesson 3: Teaching OCR](03-TeachingOCR.ipynb)\n",
    "\n",
    "\n",
    "- [Next Steps: How to Install & Run Jupyter Notebooks Locally](04-Installing%2BRunningTesseractLocally.ipynb)"
   ]
  },
  {
   "cell_type": "markdown",
   "metadata": {},
   "source": [
    "## Things to do before our first lesson<a class=\"anchor\" id=\"to-do\"></a>"
   ]
  },
  {
   "cell_type": "markdown",
   "metadata": {},
   "source": [
    "If you can before our first lesson on Monday, June 14:\n",
    "\n",
    "1. **Read through this notebook**. Complete the following steps.\n",
    "\n",
    "\n",
    "2. **Access the TAP Institute Slack** via the email invitation. Contact the TAP coordinators if you have not received this invitation. [Get familiar with how Slack works](https://slack.com/help/articles/360059976673-Slack-video-tutorials), and introduce yourself on the #introductions channel.\n",
    "\n",
    "\n",
    "3. Make sure you are [familiar with Zoom](https://support.zoom.us/hc/en-us/articles/206618765-Zoom-Video-Tutorials). **Check that you have received the Zoom link** -- it should be in your email and is also available at the top of the #intro-to-ocr Slack channel. If you can't find it, please contact the TAP coordinators.\n",
    "\n",
    "\n",
    "4. **If you have not used Jupyter Notebooks before,** go through the [Jupyter Notebook tutorial](https://ithaka.github.io/tdm-notebooks/getting-started-with-jupyter.html) -- it takes about 15 minutes.\n",
    "\n",
    "\n",
    "5. **Check that you have access to the [course materials](#materials).** Feel free to try out some of the code. Be patient the first time you open these tutorials -- Binder will take a few minutes to load. **Save a link to this notebook and to the first notebook by clicking the Binder link button in the menu above.** This link will be unique to you, and you can return to it for each lesson in the course.\n",
    "\n",
    "<img src=\"images/00-intro-25.jpg\" width=\"10%\" style=\"padding:10px\"/>\n",
    "\n",
    "\n",
    "6. **Take this brief [pre-course survey](https://forms.gle/J5zX4F879DByhPuz9).** This survey is anonymous and will give me a little more information about who you are, what your goals are, and the contexts that you're working in.\n",
    "\n",
    "\n",
    "7. **Optional: Attend office hours on Slack/Zoom** on Friday, June 11, any time between [15:00-21:00 UTC](https://savvytime.com/converter/utc/jun-11-2021/17-30). I (Hannah) will be available to answer questions and troubleshoot."
   ]
  },
  {
   "cell_type": "markdown",
   "metadata": {},
   "source": [
    "## Questions? <a class=\"anchor\" id=\"questions\"></a>"
   ]
  },
  {
   "cell_type": "markdown",
   "metadata": {},
   "source": [
    "You can send course-related questions to me (Hannah) via the #intro-to-ocr Slack channel, by direct-messaging me on Slack, or by emailing me. \n",
    "\n",
    "You can send platform (Zoom, Slack) and TAP-related questions to our TAP coordinators via the #general Slack channel, direct-messaging on Slack, or via email."
   ]
  }
 ],
 "metadata": {
  "kernelspec": {
   "display_name": "Python 3",
   "language": "python",
   "name": "python3"
  },
  "language_info": {
   "codemirror_mode": {
    "name": "ipython",
    "version": 3
   },
   "file_extension": ".py",
   "mimetype": "text/x-python",
   "name": "python",
   "nbconvert_exporter": "python",
   "pygments_lexer": "ipython3",
   "version": "3.8.5"
  }
 },
 "nbformat": 4,
 "nbformat_minor": 4
}
